{
 "cells": [
  {
   "attachments": {},
   "cell_type": "markdown",
   "metadata": {},
   "source": [
    "# Test the Stereo Encoder"
   ]
  },
  {
   "cell_type": "code",
   "execution_count": 4,
   "metadata": {},
   "outputs": [],
   "source": [
    "# import stereo network\n",
    "from im2mesh.encoder.stereo import HdrnAlphaStereo\n",
    "from typing import Optional, List\n"
   ]
  },
  {
   "cell_type": "code",
   "execution_count": 7,
   "metadata": {},
   "outputs": [
    {
     "ename": "AttributeError",
     "evalue": "'hparams' object has no attribute 'fe_features'",
     "output_type": "error",
     "traceback": [
      "\u001b[0;31m---------------------------------------------------------------------------\u001b[0m",
      "\u001b[0;31mAttributeError\u001b[0m                            Traceback (most recent call last)",
      "\u001b[1;32m/home/elchun/Documents/68301/68301_final_project/stereo-occupancy-networks/im2mesh/dev_tests/test_stereo_network.ipynb Cell 3\u001b[0m in \u001b[0;36m<cell line: 6>\u001b[0;34m()\u001b[0m\n\u001b[1;32m      <a href='vscode-notebook-cell://ssh-remote%2Belchun-gpu/home/elchun/Documents/68301/68301_final_project/stereo-occupancy-networks/im2mesh/dev_tests/test_stereo_network.ipynb#X11sdnNjb2RlLXJlbW90ZQ%3D%3D?line=2'>3</a>\u001b[0m     downsample_factor \u001b[39m=\u001b[39m \u001b[39m4\u001b[39m\n\u001b[1;32m      <a href='vscode-notebook-cell://ssh-remote%2Belchun-gpu/home/elchun/Documents/68301/68301_final_project/stereo-occupancy-networks/im2mesh/dev_tests/test_stereo_network.ipynb#X11sdnNjb2RlLXJlbW90ZQ%3D%3D?line=3'>4</a>\u001b[0m     fe_internal_features \u001b[39m=\u001b[39m \u001b[39m16\u001b[39m\n\u001b[0;32m----> <a href='vscode-notebook-cell://ssh-remote%2Belchun-gpu/home/elchun/Documents/68301/68301_final_project/stereo-occupancy-networks/im2mesh/dev_tests/test_stereo_network.ipynb#X11sdnNjb2RlLXJlbW90ZQ%3D%3D?line=5'>6</a>\u001b[0m model \u001b[39m=\u001b[39m HdrnAlphaStereo(hparams())\n",
      "File \u001b[0;32m~/Documents/68301/68301_final_project/stereo-occupancy-networks/im2mesh/encoder/stereo.py:361\u001b[0m, in \u001b[0;36m__init__\u001b[0;34m(self, hparams)\u001b[0m\n\u001b[1;32m    358\u001b[0m \u001b[39massert\u001b[39;00m \u001b[39mself\u001b[39m\u001b[39m.\u001b[39minternal_scale \u001b[39min\u001b[39;00m [\u001b[39m4\u001b[39m, \u001b[39m8\u001b[39m, \u001b[39m16\u001b[39m]\n\u001b[1;32m    360\u001b[0m \u001b[39mself\u001b[39m\u001b[39m.\u001b[39mmax_disparity_small \u001b[39m=\u001b[39m \u001b[39mself\u001b[39m\u001b[39m.\u001b[39minternal_num_disparities \u001b[39m-\u001b[39m \u001b[39m1\u001b[39m\n\u001b[0;32m--> 361\u001b[0m \u001b[39mself\u001b[39m\u001b[39m.\u001b[39mmax_disparity \u001b[39m=\u001b[39m \u001b[39mself\u001b[39m\u001b[39m.\u001b[39mmax_disparity_small \u001b[39m*\u001b[39m \u001b[39mself\u001b[39m\u001b[39m.\u001b[39minternal_scale \u001b[39m-\u001b[39m \u001b[39m1\u001b[39m\n\u001b[1;32m    363\u001b[0m \u001b[39mself\u001b[39m\u001b[39m.\u001b[39mfeatures \u001b[39m=\u001b[39m hdrn_alpha_base(hparams\u001b[39m.\u001b[39mfe_internal_features)\n\u001b[1;32m    364\u001b[0m \u001b[39mself\u001b[39m\u001b[39m.\u001b[39mscore_features \u001b[39m=\u001b[39m ScoreFeatures(hparams\u001b[39m.\u001b[39mfe_internal_features, hparams\u001b[39m.\u001b[39mfe_features, \u001b[39mself\u001b[39m\u001b[39m.\u001b[39minternal_scale)\n",
      "\u001b[0;31mAttributeError\u001b[0m: 'hparams' object has no attribute 'fe_features'"
     ]
    }
   ],
   "source": [
    "@dataclass\n",
    "class ModelConfig(object):\n",
    "    model_file: str = None\n",
    "    model_name: str = None \n",
    "\n",
    "    fe_features: int = 16\n",
    "    fe_internal_features: int = 32\n",
    "    num_disparities: int = 256\n",
    "    downsample_factor: int = 8\n",
    "\n",
    "    checkpoint: Optional[str] = None\n",
    "\n",
    "model = HdrnAlphaStereo(hparams())"
   ]
  },
  {
   "cell_type": "code",
   "execution_count": null,
   "metadata": {},
   "outputs": [],
   "source": [
    "data_dir = '../../prototypes/1a97f3c83016abca21d0de04f408950f/'"
   ]
  }
 ],
 "metadata": {
  "kernelspec": {
   "display_name": "stereo-occ",
   "language": "python",
   "name": "python3"
  },
  "language_info": {
   "codemirror_mode": {
    "name": "ipython",
    "version": 3
   },
   "file_extension": ".py",
   "mimetype": "text/x-python",
   "name": "python",
   "nbconvert_exporter": "python",
   "pygments_lexer": "ipython3",
   "version": "3.8.16"
  },
  "orig_nbformat": 4
 },
 "nbformat": 4,
 "nbformat_minor": 2
}
