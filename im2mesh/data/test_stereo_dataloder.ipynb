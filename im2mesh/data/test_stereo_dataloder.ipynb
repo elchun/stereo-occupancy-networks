{
 "cells": [
  {
   "attachments": {},
   "cell_type": "markdown",
   "metadata": {},
   "source": [
    "# Test Shapenet Dataset"
   ]
  },
  {
   "cell_type": "code",
   "execution_count": 1,
   "metadata": {},
   "outputs": [],
   "source": [
    "from im2mesh import config, data"
   ]
  },
  {
   "cell_type": "code",
   "execution_count": 2,
   "metadata": {},
   "outputs": [
    {
     "ename": "KeyError",
     "evalue": "'03797390'",
     "output_type": "error",
     "traceback": [
      "\u001b[0;31m---------------------------------------------------------------------------\u001b[0m",
      "\u001b[0;31mKeyError\u001b[0m                                  Traceback (most recent call last)",
      "\u001b[1;32m/home/elchun/Documents/68301/68301_final_project/stereo-occupancy-networks/im2mesh/data/test_stereo_dataloder.ipynb Cell 3\u001b[0m in \u001b[0;36m<cell line: 2>\u001b[0;34m()\u001b[0m\n\u001b[1;32m      <a href='vscode-notebook-cell://ssh-remote%2Belchun-gpu/home/elchun/Documents/68301/68301_final_project/stereo-occupancy-networks/im2mesh/data/test_stereo_dataloder.ipynb#W4sdnNjb2RlLXJlbW90ZQ%3D%3D?line=0'>1</a>\u001b[0m data_folder \u001b[39m=\u001b[39m \u001b[39m'\u001b[39m\u001b[39m../../data/stereo_training_data\u001b[39m\u001b[39m'\u001b[39m\n\u001b[0;32m----> <a href='vscode-notebook-cell://ssh-remote%2Belchun-gpu/home/elchun/Documents/68301/68301_final_project/stereo-occupancy-networks/im2mesh/data/test_stereo_dataloder.ipynb#W4sdnNjb2RlLXJlbW90ZQ%3D%3D?line=1'>2</a>\u001b[0m train_dataset \u001b[39m=\u001b[39m data\u001b[39m.\u001b[39;49mShapes3dMonoDataset(data_folder, \u001b[39m'\u001b[39;49m\u001b[39mtrain\u001b[39;49m\u001b[39m'\u001b[39;49m, [\u001b[39m'\u001b[39;49m\u001b[39mmug\u001b[39;49m\u001b[39m'\u001b[39;49m, \u001b[39m'\u001b[39;49m\u001b[39mbowl\u001b[39;49m\u001b[39m'\u001b[39;49m, \u001b[39m'\u001b[39;49m\u001b[39mbottle\u001b[39;49m\u001b[39m'\u001b[39;49m])\n\u001b[1;32m      <a href='vscode-notebook-cell://ssh-remote%2Belchun-gpu/home/elchun/Documents/68301/68301_final_project/stereo-occupancy-networks/im2mesh/data/test_stereo_dataloder.ipynb#W4sdnNjb2RlLXJlbW90ZQ%3D%3D?line=2'>3</a>\u001b[0m test_dataset \u001b[39m=\u001b[39m data\u001b[39m.\u001b[39mShapes3dMonoDataset(data_folder, \u001b[39m'\u001b[39m\u001b[39mtest\u001b[39m\u001b[39m'\u001b[39m, [\u001b[39m'\u001b[39m\u001b[39mmug\u001b[39m\u001b[39m'\u001b[39m, \u001b[39m'\u001b[39m\u001b[39mbowl\u001b[39m\u001b[39m'\u001b[39m, \u001b[39m'\u001b[39m\u001b[39mbottle\u001b[39m\u001b[39m'\u001b[39m])\n",
      "File \u001b[0;32m~/Documents/68301/68301_final_project/stereo-occupancy-networks/im2mesh/data/stereo_shapenet_data.py:50\u001b[0m, in \u001b[0;36mShapes3dMonoDataset.__init__\u001b[0;34m(self, dataset_folder, split, categories)\u001b[0m\n\u001b[1;32m     48\u001b[0m \u001b[39mself\u001b[39m\u001b[39m.\u001b[39mocc_dict \u001b[39m=\u001b[39m {}\n\u001b[1;32m     49\u001b[0m \u001b[39mfor\u001b[39;00m category \u001b[39min\u001b[39;00m categories:\n\u001b[0;32m---> 50\u001b[0m     \u001b[39mself\u001b[39m\u001b[39m.\u001b[39mocc_dict[category] \u001b[39m=\u001b[39m pickle\u001b[39m.\u001b[39;49mload(\n\u001b[1;32m     51\u001b[0m         \u001b[39mopen\u001b[39;49m(osp\u001b[39m.\u001b[39;49mjoin(dataset_folder, \u001b[39mf\u001b[39;49m\u001b[39m'\u001b[39;49m\u001b[39mocc_shapenet_\u001b[39;49m\u001b[39m{\u001b[39;49;00mcategory\u001b[39m}\u001b[39;49;00m\u001b[39m.p\u001b[39;49m\u001b[39m'\u001b[39;49m), \u001b[39m'\u001b[39;49m\u001b[39mrb\u001b[39;49m\u001b[39m'\u001b[39;49m)\n\u001b[1;32m     52\u001b[0m         )[shapenet_categories[category]]\n",
      "\u001b[0;31mKeyError\u001b[0m: '03797390'"
     ]
    }
   ],
   "source": [
    "data_folder = '../../data/stereo_training_data'\n",
    "train_dataset = data.Shapes3dMonoDataset(data_folder, 'train', ['mug', 'bowl', 'bottle'])\n",
    "test_dataset = data.Shapes3dMonoDataset(data_folder, 'test', ['mug', 'bowl', 'bottle'])"
   ]
  },
  {
   "cell_type": "code",
   "execution_count": 7,
   "metadata": {},
   "outputs": [
    {
     "name": "stdout",
     "output_type": "stream",
     "text": [
      "614\n",
      "76\n"
     ]
    }
   ],
   "source": [
    "print(len(train_dataset.models))\n",
    "print(len(test_dataset.models))\n"
   ]
  },
  {
   "cell_type": "code",
   "execution_count": null,
   "metadata": {},
   "outputs": [],
   "source": []
  }
 ],
 "metadata": {
  "kernelspec": {
   "display_name": "stereo-occ",
   "language": "python",
   "name": "python3"
  },
  "language_info": {
   "codemirror_mode": {
    "name": "ipython",
    "version": 3
   },
   "file_extension": ".py",
   "mimetype": "text/x-python",
   "name": "python",
   "nbconvert_exporter": "python",
   "pygments_lexer": "ipython3",
   "version": "3.8.16"
  },
  "orig_nbformat": 4
 },
 "nbformat": 4,
 "nbformat_minor": 2
}
