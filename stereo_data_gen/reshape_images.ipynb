{
 "cells": [
  {
   "attachments": {},
   "cell_type": "markdown",
   "metadata": {},
   "source": [
    "# Reshape im from 224 x 224 x 3 to 3 x 224 x 224\n",
    "(Legacy to reshape original dataset.  Not needed for newly generated datasets)"
   ]
  },
  {
   "cell_type": "code",
   "execution_count": 5,
   "metadata": {},
   "outputs": [],
   "source": [
    "import numpy as np\n",
    "import os.path as osp\n",
    "import os"
   ]
  },
  {
   "cell_type": "code",
   "execution_count": 9,
   "metadata": {},
   "outputs": [
    {
     "name": "stdout",
     "output_type": "stream",
     "text": [
      "Reshaped 999 files for ca198dc3f7dc0cacec6338171298c66b\n",
      "Reshaped 999 files for 8f550770386a6cf82f23d8349a133d2b\n",
      "Reshaped 999 files for 2d10421716b16580e45ef4135c266a12\n",
      "Reshaped 999 files for 5c7c4cb503a757147dbda56eabff0c47\n",
      "Reshaped 999 files for 8b1dca1414ba88cb91986c63a4d7a99a\n",
      "Reshaped 999 files for b4ae56d6638d5338de671f28c83d2dcb\n",
      "Reshaped 999 files for 3d1754b7cb46c0ce5c8081810641ef6\n",
      "../data/stereo_training_data/mug/962883677a586bd84a60c1a189046dd1/pose_388.npz\n"
     ]
    },
    {
     "ename": "Exception",
     "evalue": "",
     "output_type": "error",
     "traceback": [
      "\u001b[0;31m---------------------------------------------------------------------------\u001b[0m",
      "\u001b[0;31mBadZipFile\u001b[0m                                Traceback (most recent call last)",
      "\u001b[1;32m/home/elchun/Documents/68301/68301_final_project/stereo-occupancy-networks/stereo_data_gen/reshape_images.ipynb Cell 3\u001b[0m in \u001b[0;36m<cell line: 2>\u001b[0;34m()\u001b[0m\n\u001b[1;32m     <a href='vscode-notebook-cell://ssh-remote%2Belchun-gpu/home/elchun/Documents/68301/68301_final_project/stereo-occupancy-networks/stereo_data_gen/reshape_images.ipynb#W1sdnNjb2RlLXJlbW90ZQ%3D%3D?line=10'>11</a>\u001b[0m \u001b[39mtry\u001b[39;00m:\n\u001b[0;32m---> <a href='vscode-notebook-cell://ssh-remote%2Belchun-gpu/home/elchun/Documents/68301/68301_final_project/stereo-occupancy-networks/stereo_data_gen/reshape_images.ipynb#W1sdnNjb2RlLXJlbW90ZQ%3D%3D?line=11'>12</a>\u001b[0m     data \u001b[39m=\u001b[39m np\u001b[39m.\u001b[39;49mload(data_file)\n\u001b[1;32m     <a href='vscode-notebook-cell://ssh-remote%2Belchun-gpu/home/elchun/Documents/68301/68301_final_project/stereo-occupancy-networks/stereo_data_gen/reshape_images.ipynb#W1sdnNjb2RlLXJlbW90ZQ%3D%3D?line=12'>13</a>\u001b[0m \u001b[39mexcept\u001b[39;00m \u001b[39mException\u001b[39;00m:\n",
      "File \u001b[0;32m~/miniconda3/envs/stereo-occ/lib/python3.8/site-packages/numpy/lib/npyio.py:420\u001b[0m, in \u001b[0;36mload\u001b[0;34m(file, mmap_mode, allow_pickle, fix_imports, encoding, max_header_size)\u001b[0m\n\u001b[1;32m    419\u001b[0m stack\u001b[39m.\u001b[39mpop_all()\n\u001b[0;32m--> 420\u001b[0m ret \u001b[39m=\u001b[39m NpzFile(fid, own_fid\u001b[39m=\u001b[39;49mown_fid, allow_pickle\u001b[39m=\u001b[39;49mallow_pickle,\n\u001b[1;32m    421\u001b[0m               pickle_kwargs\u001b[39m=\u001b[39;49mpickle_kwargs,\n\u001b[1;32m    422\u001b[0m               max_header_size\u001b[39m=\u001b[39;49mmax_header_size)\n\u001b[1;32m    423\u001b[0m \u001b[39mreturn\u001b[39;00m ret\n",
      "File \u001b[0;32m~/miniconda3/envs/stereo-occ/lib/python3.8/site-packages/numpy/lib/npyio.py:187\u001b[0m, in \u001b[0;36mNpzFile.__init__\u001b[0;34m(self, fid, own_fid, allow_pickle, pickle_kwargs, max_header_size)\u001b[0m\n\u001b[1;32m    182\u001b[0m \u001b[39mdef\u001b[39;00m \u001b[39m__init__\u001b[39m(\u001b[39mself\u001b[39m, fid, own_fid\u001b[39m=\u001b[39m\u001b[39mFalse\u001b[39;00m, allow_pickle\u001b[39m=\u001b[39m\u001b[39mFalse\u001b[39;00m,\n\u001b[1;32m    183\u001b[0m              pickle_kwargs\u001b[39m=\u001b[39m\u001b[39mNone\u001b[39;00m, \u001b[39m*\u001b[39m,\n\u001b[1;32m    184\u001b[0m              max_header_size\u001b[39m=\u001b[39m\u001b[39mformat\u001b[39m\u001b[39m.\u001b[39m_MAX_HEADER_SIZE):\n\u001b[1;32m    185\u001b[0m     \u001b[39m# Import is postponed to here since zipfile depends on gzip, an\u001b[39;00m\n\u001b[1;32m    186\u001b[0m     \u001b[39m# optional component of the so-called standard library.\u001b[39;00m\n\u001b[0;32m--> 187\u001b[0m     _zip \u001b[39m=\u001b[39m zipfile_factory(fid)\n\u001b[1;32m    188\u001b[0m     \u001b[39mself\u001b[39m\u001b[39m.\u001b[39m_files \u001b[39m=\u001b[39m _zip\u001b[39m.\u001b[39mnamelist()\n",
      "File \u001b[0;32m~/miniconda3/envs/stereo-occ/lib/python3.8/site-packages/numpy/lib/npyio.py:103\u001b[0m, in \u001b[0;36mzipfile_factory\u001b[0;34m(file, *args, **kwargs)\u001b[0m\n\u001b[1;32m    102\u001b[0m kwargs[\u001b[39m'\u001b[39m\u001b[39mallowZip64\u001b[39m\u001b[39m'\u001b[39m] \u001b[39m=\u001b[39m \u001b[39mTrue\u001b[39;00m\n\u001b[0;32m--> 103\u001b[0m \u001b[39mreturn\u001b[39;00m zipfile\u001b[39m.\u001b[39;49mZipFile(file, \u001b[39m*\u001b[39;49margs, \u001b[39m*\u001b[39;49m\u001b[39m*\u001b[39;49mkwargs)\n",
      "File \u001b[0;32m~/miniconda3/envs/stereo-occ/lib/python3.8/zipfile.py:1269\u001b[0m, in \u001b[0;36mZipFile.__init__\u001b[0;34m(self, file, mode, compression, allowZip64, compresslevel, strict_timestamps)\u001b[0m\n\u001b[1;32m   1268\u001b[0m \u001b[39mif\u001b[39;00m mode \u001b[39m==\u001b[39m \u001b[39m'\u001b[39m\u001b[39mr\u001b[39m\u001b[39m'\u001b[39m:\n\u001b[0;32m-> 1269\u001b[0m     \u001b[39mself\u001b[39;49m\u001b[39m.\u001b[39;49m_RealGetContents()\n\u001b[1;32m   1270\u001b[0m \u001b[39melif\u001b[39;00m mode \u001b[39min\u001b[39;00m (\u001b[39m'\u001b[39m\u001b[39mw\u001b[39m\u001b[39m'\u001b[39m, \u001b[39m'\u001b[39m\u001b[39mx\u001b[39m\u001b[39m'\u001b[39m):\n\u001b[1;32m   1271\u001b[0m     \u001b[39m# set the modified flag so central directory gets written\u001b[39;00m\n\u001b[1;32m   1272\u001b[0m     \u001b[39m# even if no files are added to the archive\u001b[39;00m\n",
      "File \u001b[0;32m~/miniconda3/envs/stereo-occ/lib/python3.8/zipfile.py:1336\u001b[0m, in \u001b[0;36mZipFile._RealGetContents\u001b[0;34m(self)\u001b[0m\n\u001b[1;32m   1335\u001b[0m \u001b[39mif\u001b[39;00m \u001b[39mnot\u001b[39;00m endrec:\n\u001b[0;32m-> 1336\u001b[0m     \u001b[39mraise\u001b[39;00m BadZipFile(\u001b[39m\"\u001b[39m\u001b[39mFile is not a zip file\u001b[39m\u001b[39m\"\u001b[39m)\n\u001b[1;32m   1337\u001b[0m \u001b[39mif\u001b[39;00m \u001b[39mself\u001b[39m\u001b[39m.\u001b[39mdebug \u001b[39m>\u001b[39m \u001b[39m1\u001b[39m:\n",
      "\u001b[0;31mBadZipFile\u001b[0m: File is not a zip file",
      "\nDuring handling of the above exception, another exception occurred:\n",
      "\u001b[0;31mException\u001b[0m                                 Traceback (most recent call last)",
      "\u001b[1;32m/home/elchun/Documents/68301/68301_final_project/stereo-occupancy-networks/stereo_data_gen/reshape_images.ipynb Cell 3\u001b[0m in \u001b[0;36m<cell line: 2>\u001b[0;34m()\u001b[0m\n\u001b[1;32m     <a href='vscode-notebook-cell://ssh-remote%2Belchun-gpu/home/elchun/Documents/68301/68301_final_project/stereo-occupancy-networks/stereo_data_gen/reshape_images.ipynb#W1sdnNjb2RlLXJlbW90ZQ%3D%3D?line=12'>13</a>\u001b[0m \u001b[39mexcept\u001b[39;00m \u001b[39mException\u001b[39;00m:\n\u001b[1;32m     <a href='vscode-notebook-cell://ssh-remote%2Belchun-gpu/home/elchun/Documents/68301/68301_final_project/stereo-occupancy-networks/stereo_data_gen/reshape_images.ipynb#W1sdnNjb2RlLXJlbW90ZQ%3D%3D?line=13'>14</a>\u001b[0m     \u001b[39mprint\u001b[39m(data_file)\n\u001b[0;32m---> <a href='vscode-notebook-cell://ssh-remote%2Belchun-gpu/home/elchun/Documents/68301/68301_final_project/stereo-occupancy-networks/stereo_data_gen/reshape_images.ipynb#W1sdnNjb2RlLXJlbW90ZQ%3D%3D?line=14'>15</a>\u001b[0m     \u001b[39mraise\u001b[39;00m \u001b[39mException\u001b[39;00m\n\u001b[1;32m     <a href='vscode-notebook-cell://ssh-remote%2Belchun-gpu/home/elchun/Documents/68301/68301_final_project/stereo-occupancy-networks/stereo_data_gen/reshape_images.ipynb#W1sdnNjb2RlLXJlbW90ZQ%3D%3D?line=16'>17</a>\u001b[0m l_image \u001b[39m=\u001b[39m data[\u001b[39m'\u001b[39m\u001b[39ml_image\u001b[39m\u001b[39m'\u001b[39m]\n\u001b[1;32m     <a href='vscode-notebook-cell://ssh-remote%2Belchun-gpu/home/elchun/Documents/68301/68301_final_project/stereo-occupancy-networks/stereo_data_gen/reshape_images.ipynb#W1sdnNjb2RlLXJlbW90ZQ%3D%3D?line=17'>18</a>\u001b[0m r_image \u001b[39m=\u001b[39m data[\u001b[39m'\u001b[39m\u001b[39mr_image\u001b[39m\u001b[39m'\u001b[39m]\n",
      "\u001b[0;31mException\u001b[0m: "
     ]
    }
   ],
   "source": [
    "dataset_folder = '../data/stereo_training_data/'\n",
    "for category in ['mug', 'bowl', 'bottle']:\n",
    "    shapenet_ids = os.listdir(osp.join(dataset_folder, category))\n",
    "    for shapenet_id in shapenet_ids:\n",
    "        if '.lst' in shapenet_id:  # ignore lst files\n",
    "            continue\n",
    "        model_path = osp.join(dataset_folder, category, shapenet_id)\n",
    "        i = 0\n",
    "        while osp.exists(osp.join(model_path, f'pose_{i}.npz')):\n",
    "            data_file = osp.join(model_path, f'pose_{i}.npz')\n",
    "            try:\n",
    "                data = np.load(data_file)\n",
    "            except Exception:\n",
    "                print(data_file)\n",
    "                raise Exception\n",
    "                \n",
    "            l_image = data['l_image']\n",
    "            r_image = data['r_image']\n",
    "            pose = data['pose']\n",
    "\n",
    "            if l_image.shape[0] != 3:\n",
    "                l_image = np.einsum('ijk->kij', l_image)\n",
    "            if r_image.shape[0] != 3:\n",
    "                r_image = np.einsum('ijk->kij', r_image)\n",
    "\n",
    "            np.savez(data_file,\n",
    "                     l_image=l_image,\n",
    "                     r_image=r_image,\n",
    "                     pose=pose,\n",
    "                     shapenet_id=shapenet_id)\n",
    "            i += 1\n",
    "        print(f'Reshaped {i} files for {shapenet_id}')\n",
    "        "
   ]
  },
  {
   "cell_type": "code",
   "execution_count": null,
   "metadata": {},
   "outputs": [],
   "source": []
  }
 ],
 "metadata": {
  "kernelspec": {
   "display_name": "stereo-occ",
   "language": "python",
   "name": "python3"
  },
  "language_info": {
   "codemirror_mode": {
    "name": "ipython",
    "version": 3
   },
   "file_extension": ".py",
   "mimetype": "text/x-python",
   "name": "python",
   "nbconvert_exporter": "python",
   "pygments_lexer": "ipython3",
   "version": "3.8.16"
  },
  "orig_nbformat": 4
 },
 "nbformat": 4,
 "nbformat_minor": 2
}
